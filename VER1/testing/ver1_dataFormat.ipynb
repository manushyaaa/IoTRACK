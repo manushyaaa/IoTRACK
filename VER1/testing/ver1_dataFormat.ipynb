{
 "cells": [
  {
   "cell_type": "code",
   "execution_count": 24,
   "metadata": {},
   "outputs": [
    {
     "name": "stdout",
     "output_type": "stream",
     "text": [
      "ISS (ZARYA)\n",
      "1 25544U 98067A   23166.52504001  .00012512  00000+0  22070-3 0  9999\n",
      "2 25544  51.6424 336.7579 0005373  84.9405  18.0183 15.50777566401535\n",
      "ISS (ZARYA)\n",
      "1 25544U 98067A   23167.18063044  .00011433  00000+0  20228-3 0  9993\n",
      "2 25544  51.6417 333.5094 0005610  83.2938  82.1166 15.50790601401630\n"
     ]
    }
   ],
   "source": [
    "import requests ,re\n",
    "from textwrap import dedent\n",
    "\n",
    "def getTLE(NORAD_ID):\n",
    "    urls = f'https://tle.ivanstanojevic.me/api/tle/{NORAD_ID}'\n",
    "    header = {\n",
    "        'User-Agent': '...',\n",
    "        'referer': 'https://...'\n",
    "    }\n",
    "\n",
    "    r = requests.get(url=urls, headers=header)\n",
    "\n",
    "    data = r.json()\n",
    "\n",
    "    tle1 = \"\"\"{satname}\n",
    "{line1}\n",
    "{line2}\"\"\".format(satname=data['name'], line1=data['line1'], line2=data['line2'].strip())\n",
    "\n",
    "    return tle1\n",
    "\n",
    " \n",
    "tle2 =  \"\"\"ISS (ZARYA)\n",
    "1 25544U 98067A   23166.52504001  .00012512  00000+0  22070-3 0  9999\n",
    "2 25544  51.6424 336.7579 0005373  84.9405  18.0183 15.50777566401535\"\"\"\n",
    "\n",
    "\n",
    "\n",
    "print(tle2)\n",
    "print(getTLE(25544))\n"
   ]
  },
  {
   "cell_type": "code",
   "execution_count": 38,
   "metadata": {},
   "outputs": [
    {
     "name": "stdout",
     "output_type": "stream",
     "text": [
      "S W\n",
      "-23.2599333 -77.41261499999996\n"
     ]
    }
   ],
   "source": [
    "\n",
    "latNS = '23.2599333S'\n",
    "logEW = '77.41261499999996W'\n",
    "\n",
    "print(latNS[len(latNS)-1] , logEW[len(logEW)-1])\n",
    "\n",
    "def checkLatLog(latNS , logEW):\n",
    "        \n",
    "    if (latNS[len(latNS)-1] =='S'):\n",
    "        latNS = ''.join(('-',latNS)) \n",
    "    \n",
    "    if (logEW[len(logEW)-1] == 'W' ):\n",
    "        logEW = ''.join(('-',logEW))\n",
    "    \n",
    "    _lat = latNS[:-1]\n",
    "    _log = logEW[:-1]\n",
    "\n",
    "    return _lat , _log \n",
    "\n",
    "latNS , logEW = checkLatLog(latNS , logEW)\n",
    "print(latNS , logEW)"
   ]
  },
  {
   "cell_type": "code",
   "execution_count": 12,
   "metadata": {},
   "outputs": [
    {
     "name": "stdout",
     "output_type": "stream",
     "text": [
      "2023-06-17T13:24:36.708072UTC\n"
     ]
    }
   ],
   "source": [
    "from beyond.dates import Date\n",
    "import re \n",
    "\n",
    "_unq = str(Date.now()).replace(\" \",\"\")\n",
    " \n",
    "print(_unq)\n",
    "\n",
    "# _dataFrame.to_csv(\"{filename}{datetime}\".format(datetime=_unq), sep='\\t', index=False)\n",
    "# print('Done')"
   ]
  },
  {
   "cell_type": "code",
   "execution_count": 6,
   "metadata": {},
   "outputs": [
    {
     "name": "stdout",
     "output_type": "stream",
     "text": [
      "HelloPython\n"
     ]
    }
   ],
   "source": [
    "\n",
    "s=\"   Hello   Python  \"\n",
    "import re\n",
    "pattern= r\"\\s\"\n",
    "s1=re.sub(pattern,\"\",s)\n",
    "print (s1)#Output:Hello   Python"
   ]
  },
  {
   "cell_type": "code",
   "execution_count": 5,
   "metadata": {},
   "outputs": [
    {
     "name": "stdout",
     "output_type": "stream",
     "text": [
      "23.250093149999998\n",
      "77.42921871676411\n"
     ]
    }
   ],
   "source": [
    "from geopy.geocoders import Nominatim\n",
    "geolocator = Nominatim(user_agent=\"MyApp\")\n",
    "location = geolocator.geocode(\"Old Subhash Nagar Bhopal\")\n",
    "\n",
    "print(location.latitude)\n",
    "print(location.longitude)"
   ]
  },
  {
   "cell_type": "code",
   "execution_count": 7,
   "metadata": {},
   "outputs": [
    {
     "name": "stdout",
     "output_type": "stream",
     "text": [
      "Error: Student name not found.\n"
     ]
    }
   ],
   "source": [
    "try:\n",
    "    student_grades = {\"Alice\": 90, \"Bob\": 85, \"Charlie\": 92}\n",
    "    student_name = input(\"Enter the student's name: \")\n",
    "    grade = student_grades[student_name]\n",
    "except KeyError:\n",
    "    print(\"Error: Student name not found.\")\n",
    "else:\n",
    "    print(f\"Grade of {student_name}: {grade}\")\n"
   ]
  },
  {
   "cell_type": "code",
   "execution_count": 9,
   "metadata": {},
   "outputs": [
    {
     "name": "stdout",
     "output_type": "stream",
     "text": [
      "Error: Invalid input. Please enter a valid integer.\n"
     ]
    }
   ],
   "source": [
    "try:\n",
    "    age = int(input(\"Enter your age: \"))\n",
    "except ValueError:\n",
    "    print(\"Error: Invalid input. Please enter a valid integer.\")\n",
    "else:\n",
    "    print(\"Your age is:\", age)\n"
   ]
  },
  {
   "cell_type": "code",
   "execution_count": 13,
   "metadata": {},
   "outputs": [
    {
     "name": "stdout",
     "output_type": "stream",
     "text": [
      "Valid input: -03\n"
     ]
    }
   ],
   "source": [
    "class InvalidStringException(Exception):\n",
    "    def __init__(self, message=\"Error: Invalid input. Expected a string.\"):\n",
    "        self.message = message\n",
    "        \n",
    "def validate_input(value):\n",
    "    if not isinstance(value, str):\n",
    "        raise InvalidStringException()\n",
    "\n",
    "try:\n",
    "    user_input = input(\"Enter a string: \")\n",
    "    validate_input(user_input)\n",
    "    print(\"Valid input:\", user_input)\n",
    "except InvalidStringException as e:\n",
    "    print(e.message)\n"
   ]
  },
  {
   "cell_type": "code",
   "execution_count": 2,
   "metadata": {},
   "outputs": [
    {
     "ename": "JSONDecodeError",
     "evalue": "Extra data: line 10 column 1 (char 150)",
     "output_type": "error",
     "traceback": [
      "\u001b[1;31m---------------------------------------------------------------------------\u001b[0m",
      "\u001b[1;31mJSONDecodeError\u001b[0m                           Traceback (most recent call last)",
      "Cell \u001b[1;32mIn[2], line 93\u001b[0m\n\u001b[0;32m      1\u001b[0m \u001b[39mimport\u001b[39;00m \u001b[39mjson\u001b[39;00m \n\u001b[0;32m      3\u001b[0m data \u001b[39m=\u001b[39m\u001b[39m'''\u001b[39m\u001b[39m[ \u001b[39m\u001b[39m{\u001b[39m\n\u001b[0;32m      4\u001b[0m \u001b[39m  \u001b[39m\u001b[39m\"\u001b[39m\u001b[39mgroup\u001b[39m\u001b[39m\"\u001b[39m\u001b[39m: 2,\u001b[39m\n\u001b[0;32m      5\u001b[0m \u001b[39m  \u001b[39m\u001b[39m\"\u001b[39m\u001b[39mevent\u001b[39m\u001b[39m\"\u001b[39m\u001b[39m: \u001b[39m\u001b[39m\"\u001b[39m\u001b[39mAOS\u001b[39m\u001b[39m\"\u001b[39m\u001b[39m,\u001b[39m\n\u001b[1;32m   (...)\u001b[0m\n\u001b[0;32m     90\u001b[0m \u001b[39m }\u001b[39m\n\u001b[0;32m     91\u001b[0m \u001b[39m]\u001b[39m\u001b[39m'''\u001b[39m\n\u001b[1;32m---> 93\u001b[0m data_list \u001b[39m=\u001b[39m json\u001b[39m.\u001b[39;49mloads(data)\n\u001b[0;32m     94\u001b[0m column_name \u001b[39m=\u001b[39m \u001b[39mlist\u001b[39m(data_list[\u001b[39m0\u001b[39m]\u001b[39m.\u001b[39mkeys())\n\u001b[0;32m     95\u001b[0m \u001b[39mprint\u001b[39m(\u001b[39m'\u001b[39m\u001b[39m/t\u001b[39m\u001b[39m'\u001b[39m\u001b[39m.\u001b[39mjoin(column_name))\n",
      "File \u001b[1;32mC:\\Program Files\\WindowsApps\\PythonSoftwareFoundation.Python.3.10_3.10.3056.0_x64__qbz5n2kfra8p0\\lib\\json\\__init__.py:346\u001b[0m, in \u001b[0;36mloads\u001b[1;34m(s, cls, object_hook, parse_float, parse_int, parse_constant, object_pairs_hook, **kw)\u001b[0m\n\u001b[0;32m    341\u001b[0m     s \u001b[39m=\u001b[39m s\u001b[39m.\u001b[39mdecode(detect_encoding(s), \u001b[39m'\u001b[39m\u001b[39msurrogatepass\u001b[39m\u001b[39m'\u001b[39m)\n\u001b[0;32m    343\u001b[0m \u001b[39mif\u001b[39;00m (\u001b[39mcls\u001b[39m \u001b[39mis\u001b[39;00m \u001b[39mNone\u001b[39;00m \u001b[39mand\u001b[39;00m object_hook \u001b[39mis\u001b[39;00m \u001b[39mNone\u001b[39;00m \u001b[39mand\u001b[39;00m\n\u001b[0;32m    344\u001b[0m         parse_int \u001b[39mis\u001b[39;00m \u001b[39mNone\u001b[39;00m \u001b[39mand\u001b[39;00m parse_float \u001b[39mis\u001b[39;00m \u001b[39mNone\u001b[39;00m \u001b[39mand\u001b[39;00m\n\u001b[0;32m    345\u001b[0m         parse_constant \u001b[39mis\u001b[39;00m \u001b[39mNone\u001b[39;00m \u001b[39mand\u001b[39;00m object_pairs_hook \u001b[39mis\u001b[39;00m \u001b[39mNone\u001b[39;00m \u001b[39mand\u001b[39;00m \u001b[39mnot\u001b[39;00m kw):\n\u001b[1;32m--> 346\u001b[0m     \u001b[39mreturn\u001b[39;00m _default_decoder\u001b[39m.\u001b[39;49mdecode(s)\n\u001b[0;32m    347\u001b[0m \u001b[39mif\u001b[39;00m \u001b[39mcls\u001b[39m \u001b[39mis\u001b[39;00m \u001b[39mNone\u001b[39;00m:\n\u001b[0;32m    348\u001b[0m     \u001b[39mcls\u001b[39m \u001b[39m=\u001b[39m JSONDecoder\n",
      "File \u001b[1;32mC:\\Program Files\\WindowsApps\\PythonSoftwareFoundation.Python.3.10_3.10.3056.0_x64__qbz5n2kfra8p0\\lib\\json\\decoder.py:340\u001b[0m, in \u001b[0;36mJSONDecoder.decode\u001b[1;34m(self, s, _w)\u001b[0m\n\u001b[0;32m    338\u001b[0m end \u001b[39m=\u001b[39m _w(s, end)\u001b[39m.\u001b[39mend()\n\u001b[0;32m    339\u001b[0m \u001b[39mif\u001b[39;00m end \u001b[39m!=\u001b[39m \u001b[39mlen\u001b[39m(s):\n\u001b[1;32m--> 340\u001b[0m     \u001b[39mraise\u001b[39;00m JSONDecodeError(\u001b[39m\"\u001b[39m\u001b[39mExtra data\u001b[39m\u001b[39m\"\u001b[39m, s, end)\n\u001b[0;32m    341\u001b[0m \u001b[39mreturn\u001b[39;00m obj\n",
      "\u001b[1;31mJSONDecodeError\u001b[0m: Extra data: line 10 column 1 (char 150)"
     ]
    }
   ],
   "source": [
    "import json \n",
    "\n",
    "data ='''[ {\n",
    "  \"group\": 2,\n",
    "  \"event\": \"AOS\",\n",
    "  \"date\": \"06/24/2023\",\n",
    "  \"time\": \"02:48:44\",\n",
    "  \"azim\": 208.39726453344647,\n",
    "  \"elev\": 1.7742105320747106e-06\n",
    " }\n",
    "]\n",
    "[\n",
    " {\n",
    "  \"group\": 2,\n",
    "  \"event\": \"AOS\",\n",
    "  \"date\": \"06/24/2023\",\n",
    "  \"time\": \"02:48:44\",\n",
    "  \"azim\": 208.39726453344647,\n",
    "  \"elev\": 1.7742105320747106e-06\n",
    " },\n",
    " {\n",
    "  \"group\": 2,\n",
    "  \"event\": \"MAX\",\n",
    "  \"date\": \"06/24/2023\",\n",
    "  \"time\": \"02:54:03\",\n",
    "  \"azim\": 127.89602224719978,\n",
    "  \"elev\": 45.56583051178249\n",
    " }\n",
    "]\n",
    "[\n",
    " {\n",
    "  \"group\": 2,\n",
    "  \"event\": \"AOS\",\n",
    "  \"date\": \"06/24/2023\",\n",
    "  \"time\": \"02:48:44\",\n",
    "  \"azim\": 208.39726453344647,\n",
    "  \"elev\": 1.7742105320747106e-06\n",
    " },\n",
    " {\n",
    "  \"group\": 2,\n",
    "  \"event\": \"MAX\",\n",
    "  \"date\": \"06/24/2023\",\n",
    "  \"time\": \"02:54:03\",\n",
    "  \"azim\": 127.89602224719978,\n",
    "  \"elev\": 45.56583051178249\n",
    " },\n",
    " {\n",
    "  \"group\": 2,\n",
    "  \"event\": \"LOS\",\n",
    "  \"date\": \"06/24/2023\",\n",
    "  \"time\": \"02:59:22\",\n",
    "  \"azim\": 47.64645351080845,\n",
    "  \"elev\": -1.322556690427096e-06\n",
    " }\n",
    "]\n",
    "\n",
    "\n",
    "[\n",
    " {\n",
    "  \"group\": 2,\n",
    "  \"event\": \"AOS\",\n",
    "  \"date\": \"06/24/2023\",\n",
    "  \"time\": \"02:48:44\",\n",
    "  \"azim\": 208.39726453344647,\n",
    "  \"elev\": 1.7742105320747106e-06\n",
    " },\n",
    " {\n",
    "  \"group\": 2,\n",
    "  \"event\": \"MAX\",\n",
    "  \"date\": \"06/24/2023\",\n",
    "  \"time\": \"02:54:03\",\n",
    "  \"azim\": 127.89602224719978,\n",
    "  \"elev\": 45.56583051178249\n",
    " },\n",
    " {\n",
    "  \"group\": 2,\n",
    "  \"event\": \"LOS\",\n",
    "  \"date\": \"06/24/2023\",\n",
    "  \"time\": \"02:59:22\",\n",
    "  \"azim\": 47.64645351080845,\n",
    "  \"elev\": -1.322556690427096e-06\n",
    " },\n",
    " {\n",
    "  \"group\": 3,\n",
    "  \"event\": \"AOS\",\n",
    "  \"date\": \"06/24/2023\",\n",
    "  \"time\": \"04:26:36\",\n",
    "  \"azim\": 265.9917127209428,\n",
    "  \"elev\": 7.252334190519213e-07\n",
    " }\n",
    "]'''\n",
    "\n",
    "data_list = json.loads(data)\n",
    "column_name = list(data_list[0].keys())\n",
    "print('/t'.join(column_name))\n",
    "for items in data_list : \n",
    "    print('/t'.join(str(item[column]) for column in column_name))"
   ]
  }
 ],
 "metadata": {
  "kernelspec": {
   "display_name": "Python 3 (ipykernel)",
   "language": "python",
   "name": "python3"
  },
  "language_info": {
   "codemirror_mode": {
    "name": "ipython",
    "version": 3
   },
   "file_extension": ".py",
   "mimetype": "text/x-python",
   "name": "python",
   "nbconvert_exporter": "python",
   "pygments_lexer": "ipython3",
   "version": "3.10.11"
  },
  "orig_nbformat": 4
 },
 "nbformat": 4,
 "nbformat_minor": 2
}
