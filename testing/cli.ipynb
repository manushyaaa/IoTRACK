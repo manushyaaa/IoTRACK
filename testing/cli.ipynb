{
 "cells": [
  {
   "cell_type": "code",
   "execution_count": 1,
   "metadata": {},
   "outputs": [
    {
     "name": "stderr",
     "output_type": "stream",
     "text": [
      "usage: ipykernel_launcher.py [-h] {command1,command2} ...\n",
      "ipykernel_launcher.py: error: unrecognized arguments: --ip=127.0.0.1 --stdin=9008 --control=9006 --hb=9005 --Session.signature_scheme=\"hmac-sha256\" --Session.key=b\"f3eaa523-8ccd-4103-8603-42d8cf7cdf3e\" --shell=9007 --transport=\"tcp\" --iopub=9009 --f=c:\\Users\\manus\\AppData\\Roaming\\jupyter\\runtime\\kernel-v2-2026481z80b5x3FJ8.json\n"
     ]
    },
    {
     "ename": "SystemExit",
     "evalue": "2",
     "output_type": "error",
     "traceback": [
      "An exception has occurred, use %tb to see the full traceback.\n",
      "\u001b[1;31mSystemExit\u001b[0m\u001b[1;31m:\u001b[0m 2\n"
     ]
    },
    {
     "name": "stderr",
     "output_type": "stream",
     "text": [
      "C:\\Users\\manus\\AppData\\Local\\Packages\\PythonSoftwareFoundation.Python.3.10_qbz5n2kfra8p0\\LocalCache\\local-packages\\Python310\\site-packages\\IPython\\core\\interactiveshell.py:3516: UserWarning: To exit: use 'exit', 'quit', or Ctrl-D.\n",
      "  warn(\"To exit: use 'exit', 'quit', or Ctrl-D.\", stacklevel=1)\n"
     ]
    }
   ],
   "source": [
    "import argparse\n",
    "\n",
    "def command1(args):\n",
    "    # Logic for command 1\n",
    "    print(\"Running command 1 with arguments:\", args)\n",
    "\n",
    "def command2(args):\n",
    "    # Logic for command 2\n",
    "    print(\"Running command 2 with arguments:\", args)\n",
    "\n",
    "def main():\n",
    "    parser = argparse.ArgumentParser(description='My Backend CLI')\n",
    "\n",
    "    subparsers = parser.add_subparsers(title='Commands', dest='command')\n",
    "    \n",
    "    # Command 1\n",
    "    parser_command1 = subparsers.add_parser('command1', help='Description of command 1')\n",
    "    parser_command1.add_argument('arg1', help='Argument for command 1')\n",
    "    parser_command1.set_defaults(func=command1)\n",
    "\n",
    "    # Command 2\n",
    "    parser_command2 = subparsers.add_parser('command2', help='Description of command 2')\n",
    "    parser_command2.add_argument('arg2', help='Argument for command 2')\n",
    "    parser_command2.set_defaults(func=command2)\n",
    "\n",
    "    args = parser.parse_args()\n",
    "\n",
    "    # Execute the corresponding command function\n",
    "    if hasattr(args, 'func'):\n",
    "        args.func(args)\n",
    "    else:\n",
    "        parser.print_help()\n",
    "\n",
    "if __name__ == '__main__':\n",
    "    main()\n"
   ]
  }
 ],
 "metadata": {
  "kernelspec": {
   "display_name": "Python 3",
   "language": "python",
   "name": "python3"
  },
  "language_info": {
   "codemirror_mode": {
    "name": "ipython",
    "version": 3
   },
   "file_extension": ".py",
   "mimetype": "text/x-python",
   "name": "python",
   "nbconvert_exporter": "python",
   "pygments_lexer": "ipython3",
   "version": "3.10.11"
  },
  "orig_nbformat": 4
 },
 "nbformat": 4,
 "nbformat_minor": 2
}
