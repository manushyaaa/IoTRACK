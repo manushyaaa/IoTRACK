{
 "cells": [
  {
   "cell_type": "code",
   "execution_count": 24,
   "metadata": {},
   "outputs": [
    {
     "name": "stdout",
     "output_type": "stream",
     "text": [
      "ISS (ZARYA)\n",
      "1 25544U 98067A   23166.52504001  .00012512  00000+0  22070-3 0  9999\n",
      "2 25544  51.6424 336.7579 0005373  84.9405  18.0183 15.50777566401535\n",
      "ISS (ZARYA)\n",
      "1 25544U 98067A   23167.18063044  .00011433  00000+0  20228-3 0  9993\n",
      "2 25544  51.6417 333.5094 0005610  83.2938  82.1166 15.50790601401630\n"
     ]
    }
   ],
   "source": [
    "import requests ,re\n",
    "from textwrap import dedent\n",
    "\n",
    "def getTLE(NORAD_ID):\n",
    "    urls = f'https://tle.ivanstanojevic.me/api/tle/{NORAD_ID}'\n",
    "    header = {\n",
    "        'User-Agent': '...',\n",
    "        'referer': 'https://...'\n",
    "    }\n",
    "\n",
    "    r = requests.get(url=urls, headers=header)\n",
    "\n",
    "    data = r.json()\n",
    "\n",
    "    tle1 = \"\"\"{satname}\n",
    "{line1}\n",
    "{line2}\"\"\".format(satname=data['name'], line1=data['line1'], line2=data['line2'].strip())\n",
    "\n",
    "    return tle1\n",
    "\n",
    " \n",
    "tle2 =  \"\"\"ISS (ZARYA)\n",
    "1 25544U 98067A   23166.52504001  .00012512  00000+0  22070-3 0  9999\n",
    "2 25544  51.6424 336.7579 0005373  84.9405  18.0183 15.50777566401535\"\"\"\n",
    "\n",
    "\n",
    "\n",
    "print(tle2)\n",
    "print(getTLE(25544))\n"
   ]
  },
  {
   "cell_type": "code",
   "execution_count": 38,
   "metadata": {},
   "outputs": [
    {
     "name": "stdout",
     "output_type": "stream",
     "text": [
      "S W\n",
      "-23.2599333 -77.41261499999996\n"
     ]
    }
   ],
   "source": [
    "\n",
    "latNS = '23.2599333S'\n",
    "logEW = '77.41261499999996W'\n",
    "\n",
    "print(latNS[len(latNS)-1] , logEW[len(logEW)-1])\n",
    "\n",
    "def checkLatLog(latNS , logEW):\n",
    "        \n",
    "    if (latNS[len(latNS)-1] =='S'):\n",
    "        latNS = ''.join(('-',latNS)) \n",
    "    \n",
    "    if (logEW[len(logEW)-1] == 'W' ):\n",
    "        logEW = ''.join(('-',logEW))\n",
    "    \n",
    "    _lat = latNS[:-1]\n",
    "    _log = logEW[:-1]\n",
    "\n",
    "    return _lat , _log \n",
    "\n",
    "latNS , logEW = checkLatLog(latNS , logEW)\n",
    "print(latNS , logEW)"
   ]
  },
  {
   "cell_type": "code",
   "execution_count": 12,
   "metadata": {},
   "outputs": [
    {
     "name": "stdout",
     "output_type": "stream",
     "text": [
      "2023-06-17T13:24:36.708072UTC\n"
     ]
    }
   ],
   "source": [
    "from beyond.dates import Date\n",
    "import re \n",
    "\n",
    "_unq = str(Date.now()).replace(\" \",\"\")\n",
    " \n",
    "print(_unq)\n",
    "\n",
    "# _dataFrame.to_csv(\"{filename}{datetime}\".format(datetime=_unq), sep='\\t', index=False)\n",
    "# print('Done')"
   ]
  },
  {
   "cell_type": "code",
   "execution_count": 6,
   "metadata": {},
   "outputs": [
    {
     "name": "stdout",
     "output_type": "stream",
     "text": [
      "HelloPython\n"
     ]
    }
   ],
   "source": [
    "\n",
    "s=\"   Hello   Python  \"\n",
    "import re\n",
    "pattern= r\"\\s\"\n",
    "s1=re.sub(pattern,\"\",s)\n",
    "print (s1)#Output:Hello   Python"
   ]
  },
  {
   "cell_type": "code",
   "execution_count": 14,
   "metadata": {},
   "outputs": [
    {
     "ename": "ImportError",
     "evalue": "Missing optional dependency 'pytables'.  Use pip or conda to install pytables.",
     "output_type": "error",
     "traceback": [
      "\u001b[1;31m---------------------------------------------------------------------------\u001b[0m",
      "\u001b[1;31mModuleNotFoundError\u001b[0m                       Traceback (most recent call last)",
      "File \u001b[1;32m~\\AppData\\Local\\Packages\\PythonSoftwareFoundation.Python.3.10_qbz5n2kfra8p0\\LocalCache\\local-packages\\Python310\\site-packages\\pandas\\compat\\_optional.py:142\u001b[0m, in \u001b[0;36mimport_optional_dependency\u001b[1;34m(name, extra, errors, min_version)\u001b[0m\n\u001b[0;32m    141\u001b[0m \u001b[39mtry\u001b[39;00m:\n\u001b[1;32m--> 142\u001b[0m     module \u001b[39m=\u001b[39m importlib\u001b[39m.\u001b[39;49mimport_module(name)\n\u001b[0;32m    143\u001b[0m \u001b[39mexcept\u001b[39;00m \u001b[39mImportError\u001b[39;00m:\n",
      "File \u001b[1;32mC:\\Program Files\\WindowsApps\\PythonSoftwareFoundation.Python.3.10_3.10.3056.0_x64__qbz5n2kfra8p0\\lib\\importlib\\__init__.py:126\u001b[0m, in \u001b[0;36mimport_module\u001b[1;34m(name, package)\u001b[0m\n\u001b[0;32m    125\u001b[0m         level \u001b[39m+\u001b[39m\u001b[39m=\u001b[39m \u001b[39m1\u001b[39m\n\u001b[1;32m--> 126\u001b[0m \u001b[39mreturn\u001b[39;00m _bootstrap\u001b[39m.\u001b[39;49m_gcd_import(name[level:], package, level)\n",
      "File \u001b[1;32m<frozen importlib._bootstrap>:1050\u001b[0m, in \u001b[0;36m_gcd_import\u001b[1;34m(name, package, level)\u001b[0m\n",
      "File \u001b[1;32m<frozen importlib._bootstrap>:1027\u001b[0m, in \u001b[0;36m_find_and_load\u001b[1;34m(name, import_)\u001b[0m\n",
      "File \u001b[1;32m<frozen importlib._bootstrap>:1004\u001b[0m, in \u001b[0;36m_find_and_load_unlocked\u001b[1;34m(name, import_)\u001b[0m\n",
      "\u001b[1;31mModuleNotFoundError\u001b[0m: No module named 'tables'",
      "\nDuring handling of the above exception, another exception occurred:\n",
      "\u001b[1;31mImportError\u001b[0m                               Traceback (most recent call last)",
      "Cell \u001b[1;32mIn[14], line 12\u001b[0m\n\u001b[0;32m      9\u001b[0m df \u001b[39m=\u001b[39m pd\u001b[39m.\u001b[39mDataFrame(data)\n\u001b[0;32m     11\u001b[0m \u001b[39m# Write DataFrame to a CSV file\u001b[39;00m\n\u001b[1;32m---> 12\u001b[0m df\u001b[39m.\u001b[39;49mto_hdf(\u001b[39m'\u001b[39;49m\u001b[39mdata.h5\u001b[39;49m\u001b[39m'\u001b[39;49m, key\u001b[39m=\u001b[39;49m\u001b[39m'\u001b[39;49m\u001b[39mdf\u001b[39;49m\u001b[39m'\u001b[39;49m, mode\u001b[39m=\u001b[39;49m\u001b[39m'\u001b[39;49m\u001b[39mw\u001b[39;49m\u001b[39m'\u001b[39;49m)  \n",
      "File \u001b[1;32m~\\AppData\\Local\\Packages\\PythonSoftwareFoundation.Python.3.10_qbz5n2kfra8p0\\LocalCache\\local-packages\\Python310\\site-packages\\pandas\\core\\generic.py:2682\u001b[0m, in \u001b[0;36mNDFrame.to_hdf\u001b[1;34m(self, path_or_buf, key, mode, complevel, complib, append, format, index, min_itemsize, nan_rep, dropna, data_columns, errors, encoding)\u001b[0m\n\u001b[0;32m   2678\u001b[0m \u001b[39mfrom\u001b[39;00m \u001b[39mpandas\u001b[39;00m\u001b[39m.\u001b[39;00m\u001b[39mio\u001b[39;00m \u001b[39mimport\u001b[39;00m pytables\n\u001b[0;32m   2680\u001b[0m \u001b[39m# Argument 3 to \"to_hdf\" has incompatible type \"NDFrame\"; expected\u001b[39;00m\n\u001b[0;32m   2681\u001b[0m \u001b[39m# \"Union[DataFrame, Series]\" [arg-type]\u001b[39;00m\n\u001b[1;32m-> 2682\u001b[0m pytables\u001b[39m.\u001b[39;49mto_hdf(\n\u001b[0;32m   2683\u001b[0m     path_or_buf,\n\u001b[0;32m   2684\u001b[0m     key,\n\u001b[0;32m   2685\u001b[0m     \u001b[39mself\u001b[39;49m,  \u001b[39m# type: ignore[arg-type]\u001b[39;49;00m\n\u001b[0;32m   2686\u001b[0m     mode\u001b[39m=\u001b[39;49mmode,\n\u001b[0;32m   2687\u001b[0m     complevel\u001b[39m=\u001b[39;49mcomplevel,\n\u001b[0;32m   2688\u001b[0m     complib\u001b[39m=\u001b[39;49mcomplib,\n\u001b[0;32m   2689\u001b[0m     append\u001b[39m=\u001b[39;49mappend,\n\u001b[0;32m   2690\u001b[0m     \u001b[39mformat\u001b[39;49m\u001b[39m=\u001b[39;49m\u001b[39mformat\u001b[39;49m,\n\u001b[0;32m   2691\u001b[0m     index\u001b[39m=\u001b[39;49mindex,\n\u001b[0;32m   2692\u001b[0m     min_itemsize\u001b[39m=\u001b[39;49mmin_itemsize,\n\u001b[0;32m   2693\u001b[0m     nan_rep\u001b[39m=\u001b[39;49mnan_rep,\n\u001b[0;32m   2694\u001b[0m     dropna\u001b[39m=\u001b[39;49mdropna,\n\u001b[0;32m   2695\u001b[0m     data_columns\u001b[39m=\u001b[39;49mdata_columns,\n\u001b[0;32m   2696\u001b[0m     errors\u001b[39m=\u001b[39;49merrors,\n\u001b[0;32m   2697\u001b[0m     encoding\u001b[39m=\u001b[39;49mencoding,\n\u001b[0;32m   2698\u001b[0m )\n",
      "File \u001b[1;32m~\\AppData\\Local\\Packages\\PythonSoftwareFoundation.Python.3.10_qbz5n2kfra8p0\\LocalCache\\local-packages\\Python310\\site-packages\\pandas\\io\\pytables.py:302\u001b[0m, in \u001b[0;36mto_hdf\u001b[1;34m(path_or_buf, key, value, mode, complevel, complib, append, format, index, min_itemsize, nan_rep, dropna, data_columns, errors, encoding)\u001b[0m\n\u001b[0;32m    300\u001b[0m path_or_buf \u001b[39m=\u001b[39m stringify_path(path_or_buf)\n\u001b[0;32m    301\u001b[0m \u001b[39mif\u001b[39;00m \u001b[39misinstance\u001b[39m(path_or_buf, \u001b[39mstr\u001b[39m):\n\u001b[1;32m--> 302\u001b[0m     \u001b[39mwith\u001b[39;00m HDFStore(\n\u001b[0;32m    303\u001b[0m         path_or_buf, mode\u001b[39m=\u001b[39;49mmode, complevel\u001b[39m=\u001b[39;49mcomplevel, complib\u001b[39m=\u001b[39;49mcomplib\n\u001b[0;32m    304\u001b[0m     ) \u001b[39mas\u001b[39;00m store:\n\u001b[0;32m    305\u001b[0m         f(store)\n\u001b[0;32m    306\u001b[0m \u001b[39melse\u001b[39;00m:\n",
      "File \u001b[1;32m~\\AppData\\Local\\Packages\\PythonSoftwareFoundation.Python.3.10_qbz5n2kfra8p0\\LocalCache\\local-packages\\Python310\\site-packages\\pandas\\io\\pytables.py:560\u001b[0m, in \u001b[0;36mHDFStore.__init__\u001b[1;34m(self, path, mode, complevel, complib, fletcher32, **kwargs)\u001b[0m\n\u001b[0;32m    557\u001b[0m \u001b[39mif\u001b[39;00m \u001b[39m\"\u001b[39m\u001b[39mformat\u001b[39m\u001b[39m\"\u001b[39m \u001b[39min\u001b[39;00m kwargs:\n\u001b[0;32m    558\u001b[0m     \u001b[39mraise\u001b[39;00m \u001b[39mValueError\u001b[39;00m(\u001b[39m\"\u001b[39m\u001b[39mformat is not a defined argument for HDFStore\u001b[39m\u001b[39m\"\u001b[39m)\n\u001b[1;32m--> 560\u001b[0m tables \u001b[39m=\u001b[39m import_optional_dependency(\u001b[39m\"\u001b[39;49m\u001b[39mtables\u001b[39;49m\u001b[39m\"\u001b[39;49m)\n\u001b[0;32m    562\u001b[0m \u001b[39mif\u001b[39;00m complib \u001b[39mis\u001b[39;00m \u001b[39mnot\u001b[39;00m \u001b[39mNone\u001b[39;00m \u001b[39mand\u001b[39;00m complib \u001b[39mnot\u001b[39;00m \u001b[39min\u001b[39;00m tables\u001b[39m.\u001b[39mfilters\u001b[39m.\u001b[39mall_complibs:\n\u001b[0;32m    563\u001b[0m     \u001b[39mraise\u001b[39;00m \u001b[39mValueError\u001b[39;00m(\n\u001b[0;32m    564\u001b[0m         \u001b[39mf\u001b[39m\u001b[39m\"\u001b[39m\u001b[39mcomplib only supports \u001b[39m\u001b[39m{\u001b[39;00mtables\u001b[39m.\u001b[39mfilters\u001b[39m.\u001b[39mall_complibs\u001b[39m}\u001b[39;00m\u001b[39m compression.\u001b[39m\u001b[39m\"\u001b[39m\n\u001b[0;32m    565\u001b[0m     )\n",
      "File \u001b[1;32m~\\AppData\\Local\\Packages\\PythonSoftwareFoundation.Python.3.10_qbz5n2kfra8p0\\LocalCache\\local-packages\\Python310\\site-packages\\pandas\\compat\\_optional.py:145\u001b[0m, in \u001b[0;36mimport_optional_dependency\u001b[1;34m(name, extra, errors, min_version)\u001b[0m\n\u001b[0;32m    143\u001b[0m \u001b[39mexcept\u001b[39;00m \u001b[39mImportError\u001b[39;00m:\n\u001b[0;32m    144\u001b[0m     \u001b[39mif\u001b[39;00m errors \u001b[39m==\u001b[39m \u001b[39m\"\u001b[39m\u001b[39mraise\u001b[39m\u001b[39m\"\u001b[39m:\n\u001b[1;32m--> 145\u001b[0m         \u001b[39mraise\u001b[39;00m \u001b[39mImportError\u001b[39;00m(msg)\n\u001b[0;32m    146\u001b[0m     \u001b[39mreturn\u001b[39;00m \u001b[39mNone\u001b[39;00m\n\u001b[0;32m    148\u001b[0m \u001b[39m# Handle submodules: if we have submodule, grab parent module from sys.modules\u001b[39;00m\n",
      "\u001b[1;31mImportError\u001b[0m: Missing optional dependency 'pytables'.  Use pip or conda to install pytables."
     ]
    }
   ],
   "source": [
    "import pandas as pd\n",
    "\n",
    "df = pd.DataFrame({'A': [1, 2, 3], 'B': [4, 5, 6]},\n",
    "...                   index=['a', 'b', 'c'])  \n",
    "df.to_hdf('data.h5', key='df', mode='w')  \n"
   ]
  }
 ],
 "metadata": {
  "kernelspec": {
   "display_name": "Python 3 (ipykernel)",
   "language": "python",
   "name": "python3"
  },
  "language_info": {
   "codemirror_mode": {
    "name": "ipython",
    "version": 3
   },
   "file_extension": ".py",
   "mimetype": "text/x-python",
   "name": "python",
   "nbconvert_exporter": "python",
   "pygments_lexer": "ipython3",
   "version": "3.10.11"
  },
  "orig_nbformat": 4
 },
 "nbformat": 4,
 "nbformat_minor": 2
}
