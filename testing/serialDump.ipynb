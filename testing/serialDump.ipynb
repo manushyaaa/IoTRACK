{
 "cells": [
  {
   "cell_type": "code",
   "execution_count": 4,
   "metadata": {},
   "outputs": [
    {
     "name": "stdout",
     "output_type": "stream",
     "text": [
      "\u001bcCurrent time with seconds: 00:35:35\n",
      "\u001bcCurrent time with seconds: 00:35:36\n",
      "\u001bcCurrent time with seconds: 00:35:37\n",
      "\u001bcCurrent time with seconds: 00:35:38\n",
      "\u001bcCurrent time with seconds: 00:35:39\n",
      "\u001bcCurrent time with seconds: 00:35:40\n",
      "\u001bcCurrent time with seconds: 00:35:41\n",
      "\u001bcCurrent time with seconds: 00:35:42\n",
      "\u001bcCurrent time with seconds: 00:35:43\n",
      "\u001bcCurrent time with seconds: 00:35:44\n",
      "\u001bcCurrent time with seconds: 00:35:45\n",
      "\u001bcCurrent time with seconds: 00:35:46\n",
      "\u001bcCurrent time with seconds: 00:35:47\n",
      "\u001bcCurrent time with seconds: 00:35:48\n",
      "\u001bcCurrent time with seconds: 00:35:49\n",
      "\u001bcCurrent time with seconds: 00:35:50\n",
      "\u001bcCurrent time with seconds: 00:35:51\n",
      "\u001bcCurrent time with seconds: 00:35:52\n",
      "\u001bcCurrent time with seconds: 00:35:53\n",
      "\u001bcCurrent time with seconds: 00:35:54\n",
      "\u001bcCurrent time with seconds: 00:35:55\n",
      "\u001bcCurrent time with seconds: 00:35:56\n",
      "\u001bcCurrent time with seconds: 00:35:57\n",
      "\u001bcCurrent time with seconds: 00:35:58\n",
      "\u001bcCurrent time with seconds: 00:35:59\n",
      "\u001bcCurrent time with seconds: 00:36:00\n",
      "\u001bcCurrent time with seconds: 00:36:01\n",
      "\u001bcCurrent time with seconds: 00:36:02\n",
      "\u001bcCurrent time with seconds: 00:36:03\n",
      "\u001bcCurrent time with seconds: 00:36:04\n",
      "\u001bcCurrent time with seconds: 00:36:05\n",
      "\u001bcCurrent time with seconds: 00:36:06\n",
      "\u001bcCurrent time with seconds: 00:36:07\n",
      "\u001bcCurrent time with seconds: 00:36:08\n",
      "\u001bcCurrent time with seconds: 00:36:09\n",
      "\u001bcCurrent time with seconds: 00:36:10\n",
      "\u001bcCurrent time with seconds: 00:36:11\n",
      "\u001bcCurrent time with seconds: 00:36:12\n",
      "\u001bcCurrent time with seconds: 00:36:13\n"
     ]
    },
    {
     "ename": "KeyboardInterrupt",
     "evalue": "",
     "output_type": "error",
     "traceback": [
      "\u001b[1;31m---------------------------------------------------------------------------\u001b[0m",
      "\u001b[1;31mKeyboardInterrupt\u001b[0m                         Traceback (most recent call last)",
      "Cell \u001b[1;32mIn[4], line 18\u001b[0m\n\u001b[0;32m     15\u001b[0m \u001b[39mprint\u001b[39m(\u001b[39m\"\u001b[39m\u001b[39mCurrent time with seconds:\u001b[39m\u001b[39m\"\u001b[39m, time_string)\n\u001b[0;32m     17\u001b[0m \u001b[39m# Wait for 1 second before updating the time\u001b[39;00m\n\u001b[1;32m---> 18\u001b[0m time\u001b[39m.\u001b[39;49msleep(\u001b[39m1\u001b[39;49m)\n",
      "\u001b[1;31mKeyboardInterrupt\u001b[0m: "
     ]
    }
   ],
   "source": [
    "import datetime\n",
    "import time\n",
    "\n",
    "while True:\n",
    " \n",
    "    current_time = datetime.datetime.now() \n",
    "    time_string = current_time.strftime(\"%H:%M:%S\")\n",
    " \n",
    "    print(\"\\033c\", end=\"\") \n",
    "    print(\"Current time with seconds:\", time_string)\n",
    "     \n",
    "    time.sleep(1)\n",
    "\n"
   ]
  },
  {
   "cell_type": "code",
   "execution_count": 16,
   "metadata": {},
   "outputs": [
    {
     "name": "stdout",
     "output_type": "stream",
     "text": [
      "   Unnamed: 0  group event        date                time    azim   elev   \n",
      "6           6      1   MAX  06/18/2023 2023-06-18 06:08:46  313.84  28.37  \\\n",
      "\n",
      "   distance  radialvelocity  \n",
      "6    795.19            5.98  \n"
     ]
    },
    {
     "name": "stderr",
     "output_type": "stream",
     "text": [
      "C:\\Users\\manus\\AppData\\Local\\Temp\\ipykernel_28756\\3174165735.py:8: UserWarning: Could not infer format, so each element will be parsed individually, falling back to `dateutil`. To ensure parsing is consistent and as-expected, please specify a format.\n",
      "  df['time'] = pd.to_datetime(df['time'])\n"
     ]
    }
   ],
   "source": [
    "import pandas as pd\n",
    "from datetime import datetime\n",
    "\n",
    "# Read Excel file into DataFrame\n",
    "df = pd.read_excel('G:\\STS\\data\\predictedPath.xlsx')\n",
    "\n",
    "# Convert time column to datetime\n",
    "df['time'] = pd.to_datetime(df['time'])\n",
    "\n",
    "# Get the current system time\n",
    "current_time = datetime.now().strftime('%H:%M:%S')\n",
    "current_time = '06:08:46'\n",
    "\n",
    "# Filter the DataFrame based on the current system time\n",
    "filtered_df = df[df['time'].dt.strftime('%H:%M:%S') == current_time]\n",
    "\n",
    "# Print the filtered data\n",
    "print(filtered_df)\n",
    "\n"
   ]
  },
  {
   "cell_type": "code",
   "execution_count": 19,
   "metadata": {},
   "outputs": [
    {
     "ename": "ValueError",
     "evalue": "Excel file format cannot be determined, you must specify an engine manually.",
     "output_type": "error",
     "traceback": [
      "\u001b[1;31m---------------------------------------------------------------------------\u001b[0m",
      "\u001b[1;31mValueError\u001b[0m                                Traceback (most recent call last)",
      "Cell \u001b[1;32mIn[19], line 7\u001b[0m\n\u001b[0;32m      3\u001b[0m \u001b[39mimport\u001b[39;00m \u001b[39mpandas\u001b[39;00m \u001b[39mas\u001b[39;00m \u001b[39mpd\u001b[39;00m\n\u001b[0;32m      6\u001b[0m \u001b[39m# Read Excel file into DataFrame\u001b[39;00m\n\u001b[1;32m----> 7\u001b[0m df \u001b[39m=\u001b[39m pd\u001b[39m.\u001b[39;49mread_excel(\u001b[39m'\u001b[39;49m\u001b[39mG:\u001b[39;49m\u001b[39m\\\u001b[39;49m\u001b[39mSTS\u001b[39;49m\u001b[39m\\\u001b[39;49m\u001b[39mdata\u001b[39;49m\u001b[39m\\\u001b[39;49m\u001b[39mpredictedPath.xlsx\u001b[39;49m\u001b[39m'\u001b[39;49m)\n\u001b[0;32m      9\u001b[0m \u001b[39m# Convert time column to datetime\u001b[39;00m\n\u001b[0;32m     11\u001b[0m df[\u001b[39m'\u001b[39m\u001b[39mtime\u001b[39m\u001b[39m'\u001b[39m] \u001b[39m=\u001b[39m pd\u001b[39m.\u001b[39mto_datetime(df[\u001b[39m'\u001b[39m\u001b[39mtime\u001b[39m\u001b[39m'\u001b[39m])\n",
      "File \u001b[1;32m~\\AppData\\Local\\Packages\\PythonSoftwareFoundation.Python.3.10_qbz5n2kfra8p0\\LocalCache\\local-packages\\Python310\\site-packages\\pandas\\io\\excel\\_base.py:478\u001b[0m, in \u001b[0;36mread_excel\u001b[1;34m(io, sheet_name, header, names, index_col, usecols, dtype, engine, converters, true_values, false_values, skiprows, nrows, na_values, keep_default_na, na_filter, verbose, parse_dates, date_parser, date_format, thousands, decimal, comment, skipfooter, storage_options, dtype_backend)\u001b[0m\n\u001b[0;32m    476\u001b[0m \u001b[39mif\u001b[39;00m \u001b[39mnot\u001b[39;00m \u001b[39misinstance\u001b[39m(io, ExcelFile):\n\u001b[0;32m    477\u001b[0m     should_close \u001b[39m=\u001b[39m \u001b[39mTrue\u001b[39;00m\n\u001b[1;32m--> 478\u001b[0m     io \u001b[39m=\u001b[39m ExcelFile(io, storage_options\u001b[39m=\u001b[39;49mstorage_options, engine\u001b[39m=\u001b[39;49mengine)\n\u001b[0;32m    479\u001b[0m \u001b[39melif\u001b[39;00m engine \u001b[39mand\u001b[39;00m engine \u001b[39m!=\u001b[39m io\u001b[39m.\u001b[39mengine:\n\u001b[0;32m    480\u001b[0m     \u001b[39mraise\u001b[39;00m \u001b[39mValueError\u001b[39;00m(\n\u001b[0;32m    481\u001b[0m         \u001b[39m\"\u001b[39m\u001b[39mEngine should not be specified when passing \u001b[39m\u001b[39m\"\u001b[39m\n\u001b[0;32m    482\u001b[0m         \u001b[39m\"\u001b[39m\u001b[39man ExcelFile - ExcelFile already has the engine set\u001b[39m\u001b[39m\"\u001b[39m\n\u001b[0;32m    483\u001b[0m     )\n",
      "File \u001b[1;32m~\\AppData\\Local\\Packages\\PythonSoftwareFoundation.Python.3.10_qbz5n2kfra8p0\\LocalCache\\local-packages\\Python310\\site-packages\\pandas\\io\\excel\\_base.py:1500\u001b[0m, in \u001b[0;36mExcelFile.__init__\u001b[1;34m(self, path_or_buffer, engine, storage_options)\u001b[0m\n\u001b[0;32m   1496\u001b[0m     ext \u001b[39m=\u001b[39m inspect_excel_format(\n\u001b[0;32m   1497\u001b[0m         content_or_path\u001b[39m=\u001b[39mpath_or_buffer, storage_options\u001b[39m=\u001b[39mstorage_options\n\u001b[0;32m   1498\u001b[0m     )\n\u001b[0;32m   1499\u001b[0m     \u001b[39mif\u001b[39;00m ext \u001b[39mis\u001b[39;00m \u001b[39mNone\u001b[39;00m:\n\u001b[1;32m-> 1500\u001b[0m         \u001b[39mraise\u001b[39;00m \u001b[39mValueError\u001b[39;00m(\n\u001b[0;32m   1501\u001b[0m             \u001b[39m\"\u001b[39m\u001b[39mExcel file format cannot be determined, you must specify \u001b[39m\u001b[39m\"\u001b[39m\n\u001b[0;32m   1502\u001b[0m             \u001b[39m\"\u001b[39m\u001b[39man engine manually.\u001b[39m\u001b[39m\"\u001b[39m\n\u001b[0;32m   1503\u001b[0m         )\n\u001b[0;32m   1505\u001b[0m engine \u001b[39m=\u001b[39m config\u001b[39m.\u001b[39mget_option(\u001b[39mf\u001b[39m\u001b[39m\"\u001b[39m\u001b[39mio.excel.\u001b[39m\u001b[39m{\u001b[39;00mext\u001b[39m}\u001b[39;00m\u001b[39m.reader\u001b[39m\u001b[39m\"\u001b[39m, silent\u001b[39m=\u001b[39m\u001b[39mTrue\u001b[39;00m)\n\u001b[0;32m   1506\u001b[0m \u001b[39mif\u001b[39;00m engine \u001b[39m==\u001b[39m \u001b[39m\"\u001b[39m\u001b[39mauto\u001b[39m\u001b[39m\"\u001b[39m:\n",
      "\u001b[1;31mValueError\u001b[0m: Excel file format cannot be determined, you must specify an engine manually."
     ]
    }
   ],
   "source": [
    "import datetime\n",
    "import time\n",
    "import pandas as pd\n",
    "\n",
    "\n",
    "# Read Excel file into DataFrame\n",
    "df = pd.read_excel('G:\\STS\\data\\predictedPath.xlsx')\n",
    "\n",
    "# Convert time column to datetime\n",
    " \n",
    "df['time'] = pd.to_datetime(df['time'])\n",
    "while True:\n",
    "    \n",
    "    current_time = datetime.datetime.now().strftime('%H:%M:%S') \n",
    "    filtered_df = df[df['time'].dt.strftime('%H:%M:%S') == current_time]\n",
    "\n",
    "    # Print the filtered data\n",
    "    print(filtered_df) \n",
    "    print(current_time)\n",
    "    print(\"\\033c\", end=\"\")  \n",
    "     \n",
    "    time.sleep(1)\n"
   ]
  }
 ],
 "metadata": {
  "kernelspec": {
   "display_name": "Python 3",
   "language": "python",
   "name": "python3"
  },
  "language_info": {
   "codemirror_mode": {
    "name": "ipython",
    "version": 3
   },
   "file_extension": ".py",
   "mimetype": "text/x-python",
   "name": "python",
   "nbconvert_exporter": "python",
   "pygments_lexer": "ipython3",
   "version": "3.10.11"
  },
  "orig_nbformat": 4
 },
 "nbformat": 4,
 "nbformat_minor": 2
}
