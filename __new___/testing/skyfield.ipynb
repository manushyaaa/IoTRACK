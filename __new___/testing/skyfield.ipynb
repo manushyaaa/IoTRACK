{
 "cells": [
  {
   "cell_type": "code",
   "execution_count": 63,
   "metadata": {},
   "outputs": [
    {
     "name": "stdout",
     "output_type": "stream",
     "text": [
      "Loaded 29 satellites\n"
     ]
    }
   ],
   "source": [
    "from skyfield.api import load, wgs84\n",
    "import numpy as np\n",
    "from datetime import datetime, timedelta\n",
    "\n",
    "stations_url = 'http://celestrak.org/NORAD/elements/stations.txt'\n",
    "satellites = load.tle_file(stations_url)\n",
    "print('Loaded', len(satellites), 'satellites')"
   ]
  },
  {
   "cell_type": "code",
   "execution_count": 54,
   "metadata": {},
   "outputs": [
    {
     "name": "stdout",
     "output_type": "stream",
     "text": [
      "ISS (ZARYA) catalog #25544 epoch 2023-06-25 04:29:30 UTC\n"
     ]
    }
   ],
   "source": [
    "by_name = {sat.name: sat for sat in satellites}\n",
    "satellite = by_name['ISS (ZARYA)']\n",
    "print(satellite)"
   ]
  },
  {
   "cell_type": "code",
   "execution_count": 55,
   "metadata": {},
   "outputs": [
    {
     "name": "stdout",
     "output_type": "stream",
     "text": [
      "23.25009 77.42922\n"
     ]
    }
   ],
   "source": [
    "from geopy import Nominatim\n",
    "try : \n",
    "    geolocator = Nominatim(user_agent=\"MyApp\")\n",
    "    location = geolocator.geocode('Old Subhash Nagar , Bhopal')\n",
    "    lat = round(float(location.latitude), 5)\n",
    "    lon = round(float(location.longitude), 5)\n",
    "    print(lat , lon)\n",
    "\n",
    "except Exception as e : \n",
    "    print('An error occured while retrieving the location : ',e)\n",
    "     "
   ]
  },
  {
   "cell_type": "code",
   "execution_count": null,
   "metadata": {},
   "outputs": [],
   "source": [
    " \n",
    "bpl = wgs84.latlon(23.25009, 77.42922)\n",
    "ts = load.timescale()\n",
    "t = ts.now()\n",
    "startTime= ts.utc(2023, 6, 25)\n",
    "EndTime = ts.utc(2023, 6, 27)\n",
    "t , events  = satellite.find_events(bpl, startTime, EndTime)\n",
    "event_names = 'AOS', 'MAX', 'LOS'\n",
    " \n",
    "for ti, event in zip(t, events):\n",
    "    name = event_names[event]\n",
    "    print(ti.utc_strftime('%Y %b %d %H:%M:%S') , name )"
   ]
  },
  {
   "cell_type": "code",
   "execution_count": 27,
   "metadata": {},
   "outputs": [
    {
     "name": "stdout",
     "output_type": "stream",
     "text": [
      "[-4240.91423113  3902.58765103 -3608.86099781]\n"
     ]
    }
   ],
   "source": [
    "t = ts.now()\n",
    "geocentric = satellite.at(t)\n",
    "print(geocentric.position.km)"
   ]
  },
  {
   "cell_type": "code",
   "execution_count": 28,
   "metadata": {},
   "outputs": [
    {
     "name": "stdout",
     "output_type": "stream",
     "text": [
      "Latitude: -32deg 18' 39.5\"\n",
      "Longitude: 77deg 01' 39.4\"\n"
     ]
    }
   ],
   "source": [
    "lat, lon = wgs84.latlon_of(geocentric)\n",
    "print('Latitude:', lat)\n",
    "print('Longitude:', lon)"
   ]
  },
  {
   "cell_type": "code",
   "execution_count": 29,
   "metadata": {},
   "outputs": [
    {
     "name": "stdout",
     "output_type": "stream",
     "text": [
      "[   91.73400489   -41.64755937 -6120.75346444]\n"
     ]
    }
   ],
   "source": [
    "difference = satellite - bpl\n",
    "topocentric = difference.at(t)\n",
    "print(topocentric.position.km)"
   ]
  },
  {
   "cell_type": "code",
   "execution_count": 32,
   "metadata": {},
   "outputs": [
    {
     "name": "stdout",
     "output_type": "stream",
     "text": [
      "Altitude: -24.241972613298874\n",
      "Azimuth: 180.41423403241703\n",
      "Distance: 6121.6 km\n"
     ]
    }
   ],
   "source": [
    "alt, az, distance = topocentric.altaz()\n",
    "\n",
    "if alt.degrees > 0:\n",
    "    print('The ISS is above the horizon')\n",
    "\n",
    "print('Altitude:', alt.degrees)\n",
    "print('Azimuth:', az.degrees)\n",
    "print('Distance: {:.1f} km'.format(distance.km))"
   ]
  },
  {
   "cell_type": "code",
   "execution_count": 56,
   "metadata": {},
   "outputs": [
    {
     "name": "stdout",
     "output_type": "stream",
     "text": [
      "AOS 25-Jun-23 04:44:04 0.0 358.1\n",
      "MAX 25-Jun-23 04:47:22 4.41 36.28\n",
      "LOS 25-Jun-23 04:50:40 -0.0 74.45\n",
      "\n",
      "AOS 25-Jun-23 06:19:08 0.0 322.39\n",
      "MAX 25-Jun-23 06:24:32 68.7 49.43\n",
      "LOS 25-Jun-23 06:29:55 -0.0 136.08\n",
      "\n",
      "AOS 25-Jun-23 07:57:33 0.0 275.35\n",
      "MAX 25-Jun-23 08:00:48 4.46 237.75\n",
      "LOS 25-Jun-23 08:04:03 -0.0 199.98\n",
      "\n",
      "AOS 25-Jun-23 19:42:37 0.01 175.89\n",
      "MAX 25-Jun-23 19:46:51 9.66 123.59\n",
      "LOS 25-Jun-23 19:51:04 -0.0 71.47\n",
      "\n",
      "AOS 25-Jun-23 21:17:58 0.0 234.85\n",
      "MAX 25-Jun-23 21:23:14 36.14 312.87\n",
      "LOS 25-Jun-23 21:28:31 -0.0 30.97\n",
      "\n",
      "AOS 25-Jun-23 22:58:32 0.0 303.47\n",
      "MAX 25-Jun-23 23:00:39 1.56 326.98\n",
      "LOS 25-Jun-23 23:02:46 -0.0 350.49\n",
      "\n"
     ]
    }
   ],
   "source": [
    "bpl = wgs84.latlon(23.25009, 77.42922)\n",
    "ts = load.timescale()\n",
    "t = ts.now()\n",
    "\n",
    "startTime= ts.utc(2023, 6, 25)\n",
    "EndTime = ts.utc(2023, 6, 26)\n",
    "\n",
    "difference = satellite - bpl\n",
    "\n",
    "t , events  = satellite.find_events(bpl, startTime, EndTime , altitude_degrees=0)\n",
    "event_names = 'AOS', 'MAX', 'LOS'\n",
    "\n",
    "for ti,event in zip(t,events):\n",
    "    timePath = ti \n",
    "    topocentric = difference.at(timePath)\n",
    "    alt, az, distance = topocentric.altaz()\n",
    "    name = event_names[event]\n",
    "    print(name , ti.utc_strftime('%d-%b-%y %H:%M:%S') ,np.round(alt.degrees , 2) , np.round(az.degrees,2) ) \n",
    "    if name == 'LOS':\n",
    "        print()"
   ]
  },
  {
   "cell_type": "code",
   "execution_count": 78,
   "metadata": {},
   "outputs": [
    {
     "name": "stdout",
     "output_type": "stream",
     "text": [
      "Object Format: (<Time tt=2460120.6980687953>, 0)\n",
      "AOS 25-Jun-23 04:44:04 0.0 358.1\n",
      "Object Format: (<Time tt=2460120.7003604006>, 1)\n",
      "MAX 25-Jun-23 04:47:22 4.41 36.28\n",
      "Object Format: (<Time tt=2460120.7026500017>, 2)\n",
      "LOS 25-Jun-23 04:50:40 -0.0 74.45\n"
     ]
    }
   ],
   "source": [
    "#get accurate date per time \n",
    "bpl = wgs84.latlon(23.25009, 77.42922)\n",
    "ts = load.timescale()\n",
    "t = ts.now()\n",
    "\n",
    " \n",
    "steps = 60 #seconds\n",
    "\n",
    "predictionStartTime= ts.utc(2023, 6, 25)\n",
    "predictionEndTime = ts.utc(2023, 6, 26)\n",
    "\n",
    "difference = satellite - bpl\n",
    "\n",
    "t , events  = satellite.find_events(bpl, predictionStartTime, predictionEndTime , altitude_degrees=0)\n",
    "event_names = 'AOS', 'MAX', 'LOS'\n",
    "\n",
    "startTime = None \n",
    "endTime = None\n",
    "\n",
    " \n",
    "\n",
    "for idx, (ti, event) in enumerate(zip(t, events)):\n",
    "    timePath = ti\n",
    "    topocentric = difference.at(timePath)\n",
    "    alt, az, distance = topocentric.altaz()\n",
    "\n",
    "    name = event_names[event]\n",
    "   \n",
    "    print(\"Object Format:\", (ti, event))\n",
    "    print(name, ti.utc_strftime('%d-%b-%y %H:%M:%S'), np.round(alt.degrees, 2), np.round(az.degrees, 2))\n",
    "\n",
    "    if event == 0 and startTime is None: \n",
    "        startTime = ti.utc_strftime(\"%Y-%m-%d %H:%M:%S\") \n",
    "    if event == 2 and endTime is None: \n",
    "        endTime = ti.utc_strftime(\"%Y-%m-%d %H:%M:%S\")\n",
    "\n",
    "    if startTime is not None and endTime is not None:\n",
    "        break\n"
   ]
  },
  {
   "cell_type": "code",
   "execution_count": 61,
   "metadata": {},
   "outputs": [
    {
     "name": "stdout",
     "output_type": "stream",
     "text": [
      "2023-06-25 09:00:00\n",
      "2023-06-25 09:10:00\n",
      "2023-06-25 09:20:00\n",
      "2023-06-25 09:30:00\n",
      "2023-06-25 09:40:00\n",
      "2023-06-25 09:50:00\n",
      "2023-06-25 10:00:00\n"
     ]
    }
   ],
   "source": [
    "from datetime import datetime, timedelta\n",
    "\n",
    "start_time = datetime(2023, 6, 25, 9, 0, 0)  # Example start time: June 25, 2023, 9:00:00\n",
    "end_time = datetime(2023, 6, 25, 10, 0, 0)  # Example end time: June 25, 2023, 18:00:00\n",
    " \n",
    "time_interval = timedelta(minutes=10)\n",
    " \n",
    "current_time = start_time\n",
    " \n",
    "while current_time <= end_time: \n",
    "    print(current_time.strftime(\"%Y-%m-%d %H:%M:%S\"))\n",
    "    current_time += time_interval\n"
   ]
  },
  {
   "cell_type": "code",
   "execution_count": 81,
   "metadata": {},
   "outputs": [
    {
     "ename": "AttributeError",
     "evalue": "'Time' object has no attribute 'strftime'",
     "output_type": "error",
     "traceback": [
      "\u001b[1;31m---------------------------------------------------------------------------\u001b[0m",
      "\u001b[1;31mAttributeError\u001b[0m                            Traceback (most recent call last)",
      "Cell \u001b[1;32mIn[81], line 1\u001b[0m\n\u001b[1;32m----> 1\u001b[0m \u001b[39mprint\u001b[39m(startTime\u001b[39m.\u001b[39;49mstrftime(\u001b[39m\"\u001b[39m\u001b[39m%\u001b[39m\u001b[39mY-\u001b[39m\u001b[39m%\u001b[39m\u001b[39mm-\u001b[39m\u001b[39m%d\u001b[39;00m\u001b[39m \u001b[39m\u001b[39m%\u001b[39m\u001b[39mH:\u001b[39m\u001b[39m%\u001b[39m\u001b[39mM:\u001b[39m\u001b[39m%\u001b[39m\u001b[39mS\u001b[39m\u001b[39m\"\u001b[39m) , endTime\u001b[39m.\u001b[39mstrftime(\u001b[39m\"\u001b[39m\u001b[39m%\u001b[39m\u001b[39mY-\u001b[39m\u001b[39m%\u001b[39m\u001b[39mm-\u001b[39m\u001b[39m%d\u001b[39;00m\u001b[39m \u001b[39m\u001b[39m%\u001b[39m\u001b[39mH:\u001b[39m\u001b[39m%\u001b[39m\u001b[39mM:\u001b[39m\u001b[39m%\u001b[39m\u001b[39mS\u001b[39m\u001b[39m\"\u001b[39m))\n",
      "\u001b[1;31mAttributeError\u001b[0m: 'Time' object has no attribute 'strftime'"
     ]
    }
   ],
   "source": [
    "print(startTime.strftime(\"%Y-%m-%d %H:%M:%S\") , endTime.strftime(\"%Y-%m-%d %H:%M:%S\"))"
   ]
  }
 ],
 "metadata": {
  "kernelspec": {
   "display_name": "Python 3",
   "language": "python",
   "name": "python3"
  },
  "language_info": {
   "codemirror_mode": {
    "name": "ipython",
    "version": 3
   },
   "file_extension": ".py",
   "mimetype": "text/x-python",
   "name": "python",
   "nbconvert_exporter": "python",
   "pygments_lexer": "ipython3",
   "version": "3.10.11"
  },
  "orig_nbformat": 4
 },
 "nbformat": 4,
 "nbformat_minor": 2
}
