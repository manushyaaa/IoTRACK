{
 "cells": [
  {
   "cell_type": "code",
   "execution_count": 23,
   "metadata": {},
   "outputs": [
    {
     "ename": "SyntaxError",
     "evalue": "incomplete input (4217921848.py, line 29)",
     "output_type": "error",
     "traceback": [
      "\u001b[1;36m  Cell \u001b[1;32mIn[23], line 29\u001b[1;36m\u001b[0m\n\u001b[1;33m    print(getTLE(25544)\u001b[0m\n\u001b[1;37m                       ^\u001b[0m\n\u001b[1;31mSyntaxError\u001b[0m\u001b[1;31m:\u001b[0m incomplete input\n"
     ]
    }
   ],
   "source": [
    "import requests ,re\n",
    "from textwrap import dedent\n",
    "\n",
    "def getTLE(NORAD_ID):\n",
    "    urls = f'https://tle.ivanstanojevic.me/api/tle/{NORAD_ID}'\n",
    "    header = {\n",
    "        'User-Agent': '...',\n",
    "        'referer': 'https://...'\n",
    "    }\n",
    "\n",
    "    r = requests.get(url=urls, headers=header)\n",
    "\n",
    "    data = r.json()\n",
    "\n",
    "    tle1 = \"\"\"{satname}\n",
    "{line1}\n",
    "{line2}\"\"\".format(satname=data['name'], line1=data['line1'], line2=data['line2'].strip())\n",
    "\n",
    "    return tle1\n",
    "\n",
    " \n",
    "tle2 =  \"\"\"ISS (ZARYA)\n",
    "1 25544U 98067A   23166.52504001  .00012512  00000+0  22070-3 0  9999\n",
    "2 25544  51.6424 336.7579 0005373  84.9405  18.0183 15.50777566401535\"\"\"\n",
    "\n",
    "\n",
    "\n",
    "print(tle2)\n",
    "print(getTLE(25544))\n"
   ]
  }
 ],
 "metadata": {
  "kernelspec": {
   "display_name": "Python 3 (ipykernel)",
   "language": "python",
   "name": "python3"
  },
  "language_info": {
   "codemirror_mode": {
    "name": "ipython",
    "version": 3
   },
   "file_extension": ".py",
   "mimetype": "text/x-python",
   "name": "python",
   "nbconvert_exporter": "python",
   "pygments_lexer": "ipython3",
   "version": "3.10.11"
  },
  "orig_nbformat": 4
 },
 "nbformat": 4,
 "nbformat_minor": 2
}
