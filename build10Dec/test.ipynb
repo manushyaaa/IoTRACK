{
 "cells": [
  {
   "cell_type": "code",
   "execution_count": 3,
   "metadata": {},
   "outputs": [],
   "source": [
    "import configparser\n",
    "data_file = configparser.ConfigParser()\n",
    "data_file.read('G:\\\\MinorProject\\\\december\\\\build10DEC\\\\op\\\\aos.ini')\n",
    " \n",
    "direction1 = data_file.get(f'GROUP {4}', 'start_mov_bit')\n",
    "reposition_amount1 = data_file.get(f'GROUP {4}', 'start_reposition_deg')\n",
    "\n",
    "direction2 = data_file.get(f'GROUP {4}', 'completed_mov_bit')\n",
    "reposition_amount2 = data_file.get(f'GROUP {4}', 'completed_reposition_deg')"
   ]
  },
  {
   "cell_type": "code",
   "execution_count": 4,
   "metadata": {},
   "outputs": [
    {
     "name": "stdout",
     "output_type": "stream",
     "text": [
      "FWD 140.13\n",
      "BCK 0\n"
     ]
    }
   ],
   "source": [
    "print(direction1 , reposition_amount1)\n",
    "print(direction2 , reposition_amount2)"
   ]
  }
 ],
 "metadata": {
  "kernelspec": {
   "display_name": "Python 3",
   "language": "python",
   "name": "python3"
  },
  "language_info": {
   "codemirror_mode": {
    "name": "ipython",
    "version": 3
   },
   "file_extension": ".py",
   "mimetype": "text/x-python",
   "name": "python",
   "nbconvert_exporter": "python",
   "pygments_lexer": "ipython3",
   "version": "3.11.5"
  }
 },
 "nbformat": 4,
 "nbformat_minor": 2
}
