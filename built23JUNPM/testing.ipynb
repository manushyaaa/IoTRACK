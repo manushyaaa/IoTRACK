{
 "cells": [
  {
   "cell_type": "code",
   "execution_count": 39,
   "metadata": {},
   "outputs": [
    {
     "name": "stdout",
     "output_type": "stream",
     "text": [
      "Found your device: COM5\n",
      "Serial communication error: could not open port 'COM5': PermissionError(13, 'Access is denied.', None, 5)\n",
      "19:33:08 23-10-23 NOAA 19 230 45\n",
      "\n"
     ]
    },
    {
     "ename": "UnboundLocalError",
     "evalue": "cannot access local variable 'ser' where it is not associated with a value",
     "output_type": "error",
     "traceback": [
      "\u001b[1;31m---------------------------------------------------------------------------\u001b[0m",
      "\u001b[1;31mUnboundLocalError\u001b[0m                         Traceback (most recent call last)",
      "\u001b[1;32mg:\\MinorProject\\IoTRACK\\built23JUNPM\\testing.ipynb Cell 1\u001b[0m line \u001b[0;36m6\n\u001b[0;32m     <a href='vscode-notebook-cell:/g%3A/MinorProject/IoTRACK/built23JUNPM/testing.ipynb#W0sZmlsZQ%3D%3D?line=58'>59</a>\u001b[0m             \u001b[39mprint\u001b[39m(\u001b[39m\"\u001b[39m\u001b[39mSerial communication error:\u001b[39m\u001b[39m\"\u001b[39m, e)\n\u001b[0;32m     <a href='vscode-notebook-cell:/g%3A/MinorProject/IoTRACK/built23JUNPM/testing.ipynb#W0sZmlsZQ%3D%3D?line=60'>61</a>\u001b[0m         ser\u001b[39m.\u001b[39mclose()\n\u001b[1;32m---> <a href='vscode-notebook-cell:/g%3A/MinorProject/IoTRACK/built23JUNPM/testing.ipynb#W0sZmlsZQ%3D%3D?line=62'>63</a>\u001b[0m startSerialServer()\n\u001b[0;32m     <a href='vscode-notebook-cell:/g%3A/MinorProject/IoTRACK/built23JUNPM/testing.ipynb#W0sZmlsZQ%3D%3D?line=65'>66</a>\u001b[0m \u001b[39m# 23:15:00 23-10-23 SAT AZI ELE\u001b[39;00m\n",
      "\u001b[1;32mg:\\MinorProject\\IoTRACK\\built23JUNPM\\testing.ipynb Cell 1\u001b[0m line \u001b[0;36m5\n\u001b[0;32m     <a href='vscode-notebook-cell:/g%3A/MinorProject/IoTRACK/built23JUNPM/testing.ipynb#W0sZmlsZQ%3D%3D?line=51'>52</a>\u001b[0m         \u001b[39mprint\u001b[39m(packet)\n\u001b[0;32m     <a href='vscode-notebook-cell:/g%3A/MinorProject/IoTRACK/built23JUNPM/testing.ipynb#W0sZmlsZQ%3D%3D?line=53'>54</a>\u001b[0m         \u001b[39m# Send the current time to the Arduino via the serial connection\u001b[39;00m\n\u001b[1;32m---> <a href='vscode-notebook-cell:/g%3A/MinorProject/IoTRACK/built23JUNPM/testing.ipynb#W0sZmlsZQ%3D%3D?line=54'>55</a>\u001b[0m         ser\u001b[39m.\u001b[39mwrite(packet\u001b[39m.\u001b[39mencode(\u001b[39m'\u001b[39m\u001b[39mutf-8\u001b[39m\u001b[39m'\u001b[39m))\n\u001b[0;32m     <a href='vscode-notebook-cell:/g%3A/MinorProject/IoTRACK/built23JUNPM/testing.ipynb#W0sZmlsZQ%3D%3D?line=55'>56</a>\u001b[0m         time\u001b[39m.\u001b[39msleep(\u001b[39m1\u001b[39m)  \u001b[39m# Send the time every second\u001b[39;00m\n\u001b[0;32m     <a href='vscode-notebook-cell:/g%3A/MinorProject/IoTRACK/built23JUNPM/testing.ipynb#W0sZmlsZQ%3D%3D?line=57'>58</a>\u001b[0m \u001b[39mexcept\u001b[39;00m serial\u001b[39m.\u001b[39mSerialException \u001b[39mas\u001b[39;00m e:\n",
      "\u001b[1;31mUnboundLocalError\u001b[0m: cannot access local variable 'ser' where it is not associated with a value"
     ]
    }
   ],
   "source": [
    "import serial\n",
    "import time\n",
    "from datetime import datetime\n",
    "from utils import create_connection\n",
    "import os\n",
    "import serial.tools.list_ports\n",
    "import json\n",
    "\n",
    "with open(\"G:\\MinorProject\\IoTRACK\\\\built23JUNPM\\op\\config.json\", \"r\") as config_file:\n",
    "    config = json.load(config_file)\n",
    "\n",
    "VID = config[\"serial_vid\"]\n",
    "PID = config[\"serial_pid\"]\n",
    "BAUD_RATE = config[\"serial_baud\"]\n",
    "\n",
    "def get_com_port():\n",
    "    ports = serial.tools.list_ports.comports()\n",
    "    for port in ports:\n",
    "        if port.vid == VID and port.pid == PID:\n",
    "            print(\"Found your device:\", port.device)\n",
    "            return str(port.device)\n",
    "    print(\"Device not found.\")\n",
    "    return None\n",
    "\n",
    "def startSerialServer():\n",
    "    while True:\n",
    "        # Wait for the COM port to become available\n",
    "        com_port = get_com_port()\n",
    "        while not com_port:\n",
    "            print(\"COM not found. Waiting...\")\n",
    "            time.sleep(1)\n",
    "            com_port = get_com_port()\n",
    "\n",
    "        try:\n",
    "            ser = serial.Serial(com_port, BAUD_RATE)\n",
    "        except serial.SerialException as e:\n",
    "            print(\"Serial communication error:\", e)\n",
    "\n",
    "        try:\n",
    "            while True:\n",
    "                # Get the current time as a string with a newline character\n",
    "                current_time = datetime.now().strftime('%H:%M:%S') \n",
    "                date = datetime.now().strftime('%d-%m-%y')\n",
    "\n",
    "                satName = \"NOAA 19\"\n",
    "                azi = 230\n",
    "                ele = 45\n",
    "\n",
    "                packet = f'{current_time} {date} {satName} {azi} {ele}\\n'\n",
    "\n",
    "\n",
    "                print(packet)\n",
    "\n",
    "                # Send the current time to the Arduino via the serial connection\n",
    "                ser.write(packet.encode('utf-8'))\n",
    "                time.sleep(1)  # Send the time every second\n",
    "\n",
    "        except serial.SerialException as e:\n",
    "            print(\"Serial communication error:\", e)\n",
    "\n",
    "        ser.close()\n",
    "\n",
    "startSerialServer()\n",
    "\n",
    "\n",
    "# 23:15:00 23-10-23 SAT AZI ELE\n"
   ]
  }
 ],
 "metadata": {
  "kernelspec": {
   "display_name": "Python 3",
   "language": "python",
   "name": "python3"
  },
  "language_info": {
   "codemirror_mode": {
    "name": "ipython",
    "version": 3
   },
   "file_extension": ".py",
   "mimetype": "text/x-python",
   "name": "python",
   "nbconvert_exporter": "python",
   "pygments_lexer": "ipython3",
   "version": "3.11.5"
  }
 },
 "nbformat": 4,
 "nbformat_minor": 2
}
