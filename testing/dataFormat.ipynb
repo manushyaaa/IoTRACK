{
 "cells": [
  {
   "cell_type": "code",
   "execution_count": 24,
   "metadata": {},
   "outputs": [
    {
     "name": "stdout",
     "output_type": "stream",
     "text": [
      "ISS (ZARYA)\n",
      "1 25544U 98067A   23166.52504001  .00012512  00000+0  22070-3 0  9999\n",
      "2 25544  51.6424 336.7579 0005373  84.9405  18.0183 15.50777566401535\n",
      "ISS (ZARYA)\n",
      "1 25544U 98067A   23167.18063044  .00011433  00000+0  20228-3 0  9993\n",
      "2 25544  51.6417 333.5094 0005610  83.2938  82.1166 15.50790601401630\n"
     ]
    }
   ],
   "source": [
    "import requests ,re\n",
    "from textwrap import dedent\n",
    "\n",
    "def getTLE(NORAD_ID):\n",
    "    urls = f'https://tle.ivanstanojevic.me/api/tle/{NORAD_ID}'\n",
    "    header = {\n",
    "        'User-Agent': '...',\n",
    "        'referer': 'https://...'\n",
    "    }\n",
    "\n",
    "    r = requests.get(url=urls, headers=header)\n",
    "\n",
    "    data = r.json()\n",
    "\n",
    "    tle1 = \"\"\"{satname}\n",
    "{line1}\n",
    "{line2}\"\"\".format(satname=data['name'], line1=data['line1'], line2=data['line2'].strip())\n",
    "\n",
    "    return tle1\n",
    "\n",
    " \n",
    "tle2 =  \"\"\"ISS (ZARYA)\n",
    "1 25544U 98067A   23166.52504001  .00012512  00000+0  22070-3 0  9999\n",
    "2 25544  51.6424 336.7579 0005373  84.9405  18.0183 15.50777566401535\"\"\"\n",
    "\n",
    "\n",
    "\n",
    "print(tle2)\n",
    "print(getTLE(25544))\n"
   ]
  },
  {
   "cell_type": "code",
   "execution_count": 38,
   "metadata": {},
   "outputs": [
    {
     "name": "stdout",
     "output_type": "stream",
     "text": [
      "S W\n",
      "-23.2599333 -77.41261499999996\n"
     ]
    }
   ],
   "source": [
    "\n",
    "latNS = '23.2599333S'\n",
    "logEW = '77.41261499999996W'\n",
    "\n",
    "print(latNS[len(latNS)-1] , logEW[len(logEW)-1])\n",
    "\n",
    "def checkLatLog(latNS , logEW):\n",
    "        \n",
    "    if (latNS[len(latNS)-1] =='S'):\n",
    "        latNS = ''.join(('-',latNS)) \n",
    "    \n",
    "    if (logEW[len(logEW)-1] == 'W' ):\n",
    "        logEW = ''.join(('-',logEW))\n",
    "    \n",
    "    _lat = latNS[:-1]\n",
    "    _log = logEW[:-1]\n",
    "\n",
    "    return _lat , _log \n",
    "\n",
    "latNS , logEW = checkLatLog(latNS , logEW)\n",
    "print(latNS , logEW)"
   ]
  },
  {
   "cell_type": "code",
   "execution_count": 12,
   "metadata": {},
   "outputs": [
    {
     "name": "stdout",
     "output_type": "stream",
     "text": [
      "2023-06-17T13:24:36.708072UTC\n"
     ]
    }
   ],
   "source": [
    "from beyond.dates import Date\n",
    "import re \n",
    "\n",
    "_unq = str(Date.now()).replace(\" \",\"\")\n",
    " \n",
    "print(_unq)\n",
    "\n",
    "# _dataFrame.to_csv(\"{filename}{datetime}\".format(datetime=_unq), sep='\\t', index=False)\n",
    "# print('Done')"
   ]
  },
  {
   "cell_type": "code",
   "execution_count": 6,
   "metadata": {},
   "outputs": [
    {
     "name": "stdout",
     "output_type": "stream",
     "text": [
      "HelloPython\n"
     ]
    }
   ],
   "source": [
    "\n",
    "s=\"   Hello   Python  \"\n",
    "import re\n",
    "pattern= r\"\\s\"\n",
    "s1=re.sub(pattern,\"\",s)\n",
    "print (s1)#Output:Hello   Python"
   ]
  },
  {
   "cell_type": "code",
   "execution_count": null,
   "metadata": {},
   "outputs": [],
   "source": [
    "from geopy.geocoders import Nominatim\n",
    "geolocator = Nominatim(user_agent=\"MyApp\")\n",
    "location = geolocator.geocode(\"Bhopal\")\n",
    "\n",
    "print(location.latitude)\n",
    "print(location.longitude)"
   ]
  }
 ],
 "metadata": {
  "kernelspec": {
   "display_name": "Python 3 (ipykernel)",
   "language": "python",
   "name": "python3"
  },
  "language_info": {
   "codemirror_mode": {
    "name": "ipython",
    "version": 3
   },
   "file_extension": ".py",
   "mimetype": "text/x-python",
   "name": "python",
   "nbconvert_exporter": "python",
   "pygments_lexer": "ipython3",
   "version": "3.10.11"
  },
  "orig_nbformat": 4
 },
 "nbformat": 4,
 "nbformat_minor": 2
}
