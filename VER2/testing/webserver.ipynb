{
 "cells": [
  {
   "cell_type": "code",
   "execution_count": 3,
   "metadata": {},
   "outputs": [
    {
     "name": "stdout",
     "output_type": "stream",
     "text": [
      "Loaded 29 satellites\n",
      "<EarthSatellite ISS (ZARYA) catalog #25544 epoch 2023-06-23 09:09:19 UTC>\n"
     ]
    }
   ],
   "source": [
    "from skyfield.api import load, wgs84\n",
    "\n",
    "stations_url = 'http://celestrak.org/NORAD/elements/stations.txt'\n",
    "satellites = load.tle_file(stations_url)\n",
    "print('Loaded', len(satellites), 'satellites')\n",
    "by_name = {sat.name : sat for sat in satellites}\n",
    "sat = by_name['ISS (ZARYA)']\n",
    "print(repr(sat))"
   ]
  },
  {
   "cell_type": "code",
   "execution_count": 8,
   "metadata": {},
   "outputs": [
    {
     "ename": "UFuncTypeError",
     "evalue": "ufunc 'add' did not contain a loop with signature matching types (dtype('<U19'), dtype('float64')) -> None",
     "output_type": "error",
     "traceback": [
      "\u001b[1;31m---------------------------------------------------------------------------\u001b[0m",
      "\u001b[1;31mUFuncTypeError\u001b[0m                            Traceback (most recent call last)",
      "Cell \u001b[1;32mIn[8], line 23\u001b[0m\n\u001b[0;32m     21\u001b[0m \u001b[39m# Load the timescale and get the time range\u001b[39;00m\n\u001b[0;32m     22\u001b[0m timescale \u001b[39m=\u001b[39m load\u001b[39m.\u001b[39mtimescale()\n\u001b[1;32m---> 23\u001b[0m start \u001b[39m=\u001b[39m timescale\u001b[39m.\u001b[39;49mutc(start_time)\n\u001b[0;32m     24\u001b[0m end \u001b[39m=\u001b[39m timescale\u001b[39m.\u001b[39mutc(end_time)\n\u001b[0;32m     26\u001b[0m \u001b[39m# Generate the positions of the ISS for the given time range\u001b[39;00m\n",
      "File \u001b[1;32m~\\AppData\\Local\\Packages\\PythonSoftwareFoundation.Python.3.10_qbz5n2kfra8p0\\LocalCache\\local-packages\\Python310\\site-packages\\skyfield\\timelib.py:181\u001b[0m, in \u001b[0;36mTimescale.utc\u001b[1;34m(self, year, month, day, hour, minute, second)\u001b[0m\n\u001b[0;32m    178\u001b[0m     \u001b[39mreturn\u001b[39;00m \u001b[39mself\u001b[39m\u001b[39m.\u001b[39mfrom_datetimes(year)\n\u001b[0;32m    180\u001b[0m tup \u001b[39m=\u001b[39m year, month, day, hour, minute, second\n\u001b[1;32m--> 181\u001b[0m \u001b[39mreturn\u001b[39;00m \u001b[39mself\u001b[39;49m\u001b[39m.\u001b[39;49m_utc(tup)\n",
      "File \u001b[1;32m~\\AppData\\Local\\Packages\\PythonSoftwareFoundation.Python.3.10_qbz5n2kfra8p0\\LocalCache\\local-packages\\Python310\\site-packages\\skyfield\\timelib.py:191\u001b[0m, in \u001b[0;36mTimescale._utc\u001b[1;34m(self, tup)\u001b[0m\n\u001b[0;32m    188\u001b[0m cutoff \u001b[39m=\u001b[39m \u001b[39mself\u001b[39m\u001b[39m.\u001b[39mjulian_calendar_cutoff\n\u001b[0;32m    190\u001b[0m \u001b[39m# Figure out exactly the TAI second number.\u001b[39;00m\n\u001b[1;32m--> 191\u001b[0m seconds \u001b[39m=\u001b[39m (julian_day(a(year), a(month), a(day), cutoff) \u001b[39m-\u001b[39m \u001b[39m0.5\u001b[39m) \u001b[39m*\u001b[39m DAY_S\n\u001b[0;32m    192\u001b[0m seconds, sfr \u001b[39m=\u001b[39m \u001b[39mdivmod\u001b[39m(seconds, \u001b[39m1.0\u001b[39m)  \u001b[39m# in case there were any fractions\u001b[39;00m\n\u001b[0;32m    193\u001b[0m seconds \u001b[39m+\u001b[39m\u001b[39m=\u001b[39m interp(seconds, \u001b[39mself\u001b[39m\u001b[39m.\u001b[39m_leap_utc, \u001b[39mself\u001b[39m\u001b[39m.\u001b[39m_leap_offsets)\n",
      "File \u001b[1;32m~\\AppData\\Local\\Packages\\PythonSoftwareFoundation.Python.3.10_qbz5n2kfra8p0\\LocalCache\\local-packages\\Python310\\site-packages\\skyfield\\timelib.py:959\u001b[0m, in \u001b[0;36mjulian_day\u001b[1;34m(year, month, day, julian_before)\u001b[0m\n\u001b[0;32m    957\u001b[0m \u001b[39m# Support months <1 and >12 by overflowing cleanly into adjacent years.\u001b[39;00m\n\u001b[0;32m    958\u001b[0m y, month \u001b[39m=\u001b[39m \u001b[39mdivmod\u001b[39m(month \u001b[39m-\u001b[39m \u001b[39m1\u001b[39m, \u001b[39m12\u001b[39m)\n\u001b[1;32m--> 959\u001b[0m year \u001b[39m=\u001b[39m year \u001b[39m+\u001b[39;49m y\n\u001b[0;32m    960\u001b[0m month \u001b[39m+\u001b[39m\u001b[39m=\u001b[39m \u001b[39m1\u001b[39m\n\u001b[0;32m    962\u001b[0m \u001b[39m# See the Explanatory Supplement to the Astronomical Almanac 15.11.\u001b[39;00m\n",
      "\u001b[1;31mUFuncTypeError\u001b[0m: ufunc 'add' did not contain a loop with signature matching types (dtype('<U19'), dtype('float64')) -> None"
     ]
    }
   ],
   "source": [
    "from skyfield.api import Topos, load\n",
    "import matplotlib.pyplot as plt\n",
    "\n",
    "# Load the TLE data for the ISS\n",
    "stations_url = 'http://celestrak.com/NORAD/elements/stations.txt'\n",
    "satellites = load.tle_file(stations_url)\n",
    "by_name = {sat.name : sat for sat in satellites}\n",
    "satellite = by_name['ISS (ZARYA)']\n",
    " \n",
    "\n",
    "# Define the location where we want to observe from\n",
    "observer_latitude = 51.5074  # Latitude of London, UK\n",
    "observer_longitude = -0.1278  # Longitude of London, UK\n",
    "observer_elevation = 0  # Elevation above sea level in meters\n",
    "observer = Topos(observer_latitude, observer_longitude, elevation_m=observer_elevation)\n",
    "\n",
    "# Define the time range for the prediction\n",
    "start_time = '2023-06-24 00:00:00'\n",
    "end_time = '2023-06-24 23:59:59'\n",
    "\n",
    "# Generate the times for the prediction\n",
    "timescale = load.timescale()\n",
    "start = timescale.utc(start_time)\n",
    "end = timescale.utc(end_time)\n",
    "delta_t = timescale.delta_t_utc(start, end)\n",
    "\n",
    "# Generate the positions of the ISS for the given time range\n",
    "positions = satellite.at(timescale.tai_jd(start, end, delta_t)).observe(observer)\n",
    "\n",
    "# Extract the latitude, longitude, and altitude of the ISS positions\n",
    "latitudes = []\n",
    "longitudes = []\n",
    "altitudes = []\n",
    "for position in positions:\n",
    "    latitude, longitude, distance = position.apparent().radec()\n",
    "    latitudes.append(latitude.degrees)\n",
    "    longitudes.append(longitude.degrees)\n",
    "    altitudes.append(distance.km)\n",
    "\n",
    "# Plot the predicted path of the ISS\n",
    "plt.figure(figsize=(10, 6))\n",
    "plt.plot(longitudes, latitudes, label='ISS Path')\n",
    "plt.xlabel('Longitude (degrees)')\n",
    "plt.ylabel('Latitude (degrees)')\n",
    "plt.title('Predicted Path of ISS - June 24, 2023')\n",
    "plt.grid(True)\n",
    "plt.legend()\n",
    "plt.show()\n"
   ]
  }
 ],
 "metadata": {
  "kernelspec": {
   "display_name": "Python 3",
   "language": "python",
   "name": "python3"
  },
  "language_info": {
   "codemirror_mode": {
    "name": "ipython",
    "version": 3
   },
   "file_extension": ".py",
   "mimetype": "text/x-python",
   "name": "python",
   "nbconvert_exporter": "python",
   "pygments_lexer": "ipython3",
   "version": "3.10.11"
  },
  "orig_nbformat": 4
 },
 "nbformat": 4,
 "nbformat_minor": 2
}
